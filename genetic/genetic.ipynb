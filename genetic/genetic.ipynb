{
 "cells": [
  {
   "cell_type": "code",
   "id": "initial_id",
   "metadata": {
    "collapsed": true,
    "ExecuteTime": {
     "end_time": "2024-12-12T21:57:35.023642Z",
     "start_time": "2024-12-12T21:57:35.017568Z"
    }
   },
   "source": [
    "import random\n",
    "from random import randint\n",
    "import matplotlib.pyplot as plt\n",
    "import numpy as np\n",
    "import tsplib95\n",
    "from utils.get_opt_cost import get_optimal_cost\n",
    "from data.opt_cost import tsp as opt_sol\n",
    "from utils.create_distance_matrix import create_distance_matrix"
   ],
   "outputs": [],
   "execution_count": 486
  },
  {
   "metadata": {
    "ExecuteTime": {
     "end_time": "2024-12-12T21:57:35.030598Z",
     "start_time": "2024-12-12T21:57:35.027097Z"
    }
   },
   "cell_type": "code",
   "source": [
    "INT_MAX = 2147483647\n",
    "\n",
    "def rand_num(start, end):\n",
    "    \"\"\"Returns a random number in the range [start, end).\"\"\"\n",
    "    return randint(start, end - 1)\n",
    "\n",
    "def create_gnome(nb_cities):\n",
    "    \"\"\"Creates a valid GNOME (tour).\"\"\"\n",
    "    gnome = list(range(nb_cities))\n",
    "    gnome = random.sample(gnome, len(gnome))  # Shuffle the list\n",
    "    gnome.append(gnome[0])  # Return to the starting city\n",
    "    return gnome\n",
    "\n",
    "def cal_fitness(gnome, distance_matrix):\n",
    "    \"\"\"Calculates the fitness value (total cost) of a GNOME.\"\"\"\n",
    "    f = 0\n",
    "    for i in range(len(gnome) - 1):\n",
    "        city1 = gnome[i]\n",
    "        city2 = gnome[i + 1]\n",
    "        if distance_matrix[city1][city2] == INT_MAX:\n",
    "            return INT_MAX\n",
    "        f += distance_matrix[city1][city2]\n",
    "    return f"
   ],
   "id": "ae868fc11be0ab99",
   "outputs": [],
   "execution_count": 487
  },
  {
   "metadata": {
    "ExecuteTime": {
     "end_time": "2024-12-12T21:57:35.044250Z",
     "start_time": "2024-12-12T21:57:35.042331Z"
    }
   },
   "cell_type": "code",
   "source": [
    "def initialize_population(nb_cities, pop_size, distance_matrix):\n",
    "    \"\"\"Creates the initial population of individuals.\"\"\"\n",
    "    population = []\n",
    "    for _ in range(pop_size):\n",
    "        gnome = create_gnome(nb_cities)\n",
    "        fitness = cal_fitness(gnome, distance_matrix)\n",
    "        population.append({'gnome': gnome, 'fitness': fitness})\n",
    "    return population"
   ],
   "id": "b7e1ad4f8aa266d2",
   "outputs": [],
   "execution_count": 488
  },
  {
   "metadata": {
    "ExecuteTime": {
     "end_time": "2024-12-12T21:57:35.054626Z",
     "start_time": "2024-12-12T21:57:35.052289Z"
    }
   },
   "cell_type": "code",
   "source": [
    "def selection_tournament(population, tourn_size=3):\n",
    "    \"\"\"Selects the best individuals from a population using tournament selection.\"\"\"\n",
    "    pop_size = len(population)\n",
    "    fitness_array = np.array([ind['fitness'] for ind in population])\n",
    "    aspirants_idx = np.random.randint(pop_size, size=(pop_size, tourn_size))  # Select indices for tournaments\n",
    "    aspirants_values = fitness_array[aspirants_idx]  # Get fitness values of aspirants\n",
    "    winner_idx = aspirants_values.argmin(axis=1)  # Index of the winner for each tournament (lower fitness is better)\n",
    "    sel_index = [aspirants_idx[i, j] for i, j in enumerate(winner_idx)]  # Index of the selected individuals\n",
    "    selected_population = [population[idx] for idx in sel_index]  # Get the winners from the original population\n",
    "    return selected_population"
   ],
   "id": "502b3d5857570792",
   "outputs": [],
   "execution_count": 489
  },
  {
   "metadata": {
    "ExecuteTime": {
     "end_time": "2024-12-12T21:57:35.064260Z",
     "start_time": "2024-12-12T21:57:35.062049Z"
    }
   },
   "cell_type": "code",
   "source": [
    "def apply_crossover(parent1, parent2, distance_matrix):\n",
    "    \"\"\"Applies Order Crossover (OX1) to generate offspring.\"\"\"\n",
    "    size = len(parent1['gnome']) - 1  # Do not include the last repeated city\n",
    "    child_gnome = [-1] * size  # Initialize child with placeholders\n",
    "    start, end = sorted([rand_num(1, size), rand_num(1, size)])\n",
    "    child_gnome[start:end] = parent1['gnome'][start:end]\n",
    "    p2_genes = [gene for gene in parent2['gnome'] if gene not in child_gnome]\n",
    "    i = 0\n",
    "    for j in range(size):\n",
    "        if child_gnome[j] == -1:\n",
    "            child_gnome[j] = p2_genes[i]\n",
    "            i += 1\n",
    "    child_gnome.append(child_gnome[0])\n",
    "    child_fitness = cal_fitness(child_gnome, distance_matrix)\n",
    "    return {'gnome': child_gnome, 'fitness': child_fitness}"
   ],
   "id": "4063b58daaba5e1d",
   "outputs": [],
   "execution_count": 490
  },
  {
   "metadata": {
    "ExecuteTime": {
     "end_time": "2024-12-12T21:57:35.073167Z",
     "start_time": "2024-12-12T21:57:35.071259Z"
    }
   },
   "cell_type": "code",
   "source": [
    "def apply_mutation(population, mutation_rate, distance_matrix):\n",
    "    \"\"\"Applies reverse mutation to the entire population.\"\"\"\n",
    "    for individual in population:\n",
    "        if random.random() < mutation_rate:\n",
    "            Chrom = np.array(individual['gnome'])\n",
    "            n1, n2 = np.random.randint(0, len(Chrom) - 1, 2)\n",
    "            if n1 >= n2:\n",
    "                n1, n2 = n2, n1 + 1\n",
    "            Chrom[n1:n2] = Chrom[n1:n2][::-1]  # Reverse the segment\n",
    "            individual['gnome'] = list(Chrom)\n",
    "            individual['fitness'] = cal_fitness(individual['gnome'], distance_matrix)\n",
    "    return population"
   ],
   "id": "89212ec465da1ddd",
   "outputs": [],
   "execution_count": 491
  },
  {
   "metadata": {
    "ExecuteTime": {
     "end_time": "2024-12-12T21:57:35.081759Z",
     "start_time": "2024-12-12T21:57:35.079987Z"
    }
   },
   "cell_type": "code",
   "source": [
    "def plot_best_individual(best_fitness):\n",
    "    generations = list(range(1, len(best_fitness) + 1))\n",
    "    plt.plot(generations, best_fitness, color='g', label='Best Fitness')\n",
    "    plt.title('Best Fitness over Generations')\n",
    "    plt.xlabel('Generation')\n",
    "    plt.ylabel('Fitness')\n",
    "    plt.legend()\n",
    "    plt.grid()\n",
    "    plt.show()\n"
   ],
   "id": "85b1dce0411f3990",
   "outputs": [],
   "execution_count": 492
  },
  {
   "metadata": {
    "ExecuteTime": {
     "end_time": "2024-12-12T21:57:35.091826Z",
     "start_time": "2024-12-12T21:57:35.088198Z"
    }
   },
   "cell_type": "code",
   "source": [
    "def genetic(distance_matrix, hyperparams=None):\n",
    "\n",
    "    # Default hyperparameters\n",
    "    defaults = {\n",
    "        \"POP_SIZE\": 200,\n",
    "        \"GEN_THRESH\": 500,\n",
    "        \"crossover_rate\": 0.7,\n",
    "        \"mutation_rate\": 0.3,\n",
    "    }\n",
    "    if hyperparams:\n",
    "        defaults.update(hyperparams)\n",
    "\n",
    "    nb_cities = len(distance_matrix)\n",
    "    pop_size = defaults[\"POP_SIZE\"]\n",
    "    gen_thresh = defaults[\"GEN_THRESH\"]\n",
    "    crossover_rate = defaults[\"crossover_rate\"]\n",
    "    mutation_rate = defaults[\"mutation_rate\"]\n",
    "\n",
    "    best_fitness = []\n",
    "\n",
    "\n",
    "    # Initialize population\n",
    "    population = initialize_population(nb_cities, pop_size, distance_matrix)\n",
    "\n",
    "    # Iterate through generations\n",
    "    for gen in range(gen_thresh):\n",
    "        # print(f\"\\nGeneration {gen + 1}\")\n",
    "        # print all the individuals in the population\n",
    "        # for i in range(pop_size):\n",
    "        #     print(f'Fitness: {population[i][\"fitness\"]} \\n Genome: {population[i][\"gnome\"]}')\n",
    "\n",
    "        # Sort by fitness\n",
    "        population.sort(key=lambda x: x['fitness'])\n",
    "\n",
    "        current_best_fitness = population[0]['fitness']\n",
    "        best_fitness.append(current_best_fitness)\n",
    "\n",
    "        current_best_gnome = [int(x + 1) for x in population[0]['gnome']]\n",
    "        # print(f\"Best Fitness: {current_best_fitness}\")\n",
    "        # print(f\"Best GNOME:{current_best_gnome}\")\n",
    "\n",
    "        selected_population = selection_tournament(population)\n",
    "        new_population = []\n",
    "        for i in range(0, len(selected_population), 2):\n",
    "            parent1 = selected_population[i]\n",
    "            parent2 = selected_population[i + 1] if i + 1 < len(selected_population) else parent1\n",
    "            if random.random() < crossover_rate:\n",
    "                child = apply_crossover(parent1, parent2, distance_matrix)\n",
    "                new_population.append(child)\n",
    "\n",
    "        new_population.extend(selected_population)  # Combine parents and children\n",
    "        new_population = sorted(new_population, key=lambda x: x['fitness'])[:pop_size]  # Select the best individuals\n",
    "\n",
    "        new_population = apply_mutation(new_population, mutation_rate, distance_matrix)\n",
    "\n",
    "        # Update the population\n",
    "        population = new_population\n",
    "\n",
    "    # test population\n",
    "    # for i in range(pop_size):\n",
    "    #     print(population[i])\n",
    "\n",
    "    plot_best_individual(best_fitness)\n",
    "\n",
    "    best_individual = min(population, key=lambda x: x['fitness'])\n",
    "    cost = best_individual['fitness']\n",
    "    seq = [int(x + 1) for x in best_individual['gnome']]\n",
    "    return cost, seq\n"
   ],
   "id": "73174de37a03fed0",
   "outputs": [],
   "execution_count": 493
  },
  {
   "metadata": {
    "ExecuteTime": {
     "end_time": "2024-12-12T22:07:03.864894Z",
     "start_time": "2024-12-12T21:57:35.098954Z"
    }
   },
   "cell_type": "code",
   "source": [
    "# SEED = 42  # Set a fixed seed for reproducibility\n",
    "# random.seed(SEED)\n",
    "# np.random.seed(SEED)\n",
    "\n",
    "data = \"brg180\"  # Specify your dataset\n",
    "problem = tsplib95.load(f'../data/ALL_tsp/{data}.tsp')\n",
    "distance_matrix = create_distance_matrix(problem)\n",
    "\n",
    "hyperparams = {\n",
    "    \"POP_SIZE\": 200,\n",
    "    \"GEN_THRESH\": 10000,\n",
    "    \"crossover_rate\": 0.9,\n",
    "    \"mutation_rate\": 0.3,\n",
    "}\n",
    "\n",
    "cost, seq = genetic(distance_matrix, hyperparams)\n",
    "print('\\nCost:', cost)\n",
    "print('Sequence:', seq)\n",
    "\n",
    "opt_cost = get_optimal_cost(opt_sol.data, data)\n",
    "print(\"\\nOptimal cost:\", opt_cost)\n",
    "print(\"\\nDeviation:\", ((cost - opt_cost) / opt_cost) * 100)\n"
   ],
   "id": "f1c2789001799505",
   "outputs": [
    {
     "data": {
      "text/plain": [
       "<Figure size 640x480 with 1 Axes>"
      ],
      "image/png": "[encoded data removed]"
     },
     "metadata": {},
     "output_type": "display_data"
    },
    {
     "name": "stdout",
     "output_type": "stream",
     "text": [
      "\n",
      "Cost: 240210.0\n",
      "Sequence: [169, 96, 50, 131, 74, 73, 129, 56, 121, 86, 110, 11, 161, 87, 42, 47, 13, 9, 92, 137, 12, 163, 124, 48, 135, 154, 139, 89, 173, 114, 82, 7, 117, 51, 160, 40, 166, 45, 116, 172, 143, 15, 81, 176, 108, 38, 84, 83, 123, 3, 28, 103, 146, 99, 145, 78, 1, 2, 162, 14, 156, 63, 55, 10, 46, 90, 30, 133, 29, 60, 132, 115, 178, 8, 174, 79, 100, 158, 65, 66, 171, 34, 179, 31, 67, 165, 16, 152, 138, 36, 22, 105, 151, 150, 75, 17, 180, 21, 106, 39, 97, 125, 37, 80, 109, 93, 94, 58, 118, 70, 142, 148, 141, 127, 35, 57, 119, 107, 33, 149, 167, 71, 76, 98, 26, 77, 20, 122, 104, 25, 126, 102, 101, 23, 88, 19, 18, 175, 113, 32, 5, 53, 153, 72, 43, 136, 41, 159, 62, 147, 4, 91, 144, 111, 24, 128, 6, 130, 155, 69, 52, 44, 95, 112, 177, 27, 168, 157, 59, 120, 85, 49, 68, 64, 54, 61, 140, 134, 164, 170, 169]\n",
      "\n",
      "Optimal cost: 1950\n",
      "\n",
      "Deviation: 12218.461538461539\n"
     ]
    }
   ],
   "execution_count": 494
  },
  {
   "metadata": {
    "ExecuteTime": {
     "end_time": "2024-12-12T22:07:03.882438Z",
     "start_time": "2024-12-12T22:07:03.880053Z"
    }
   },
   "cell_type": "code",
   "source": [
    "# def objective(trial):\n",
    "#     params = {\n",
    "#         \"POP_SIZE\": trial.suggest_int(\"POP_SIZE\", 50, 100, step=10),\n",
    "#         \"GEN_THRESH\": trial.suggest_int(\"GEN_THRESH\", 100, 500, step=10),\n",
    "#         \"crossover_rate\": trial.suggest_float(\"crossover_rate\", 0.5, 1.0),\n",
    "#         \"mutation_rate\": trial.suggest_float(\"mutation_rate\", 0.05, 0.3),\n",
    "#     }\n",
    "#\n",
    "#     relative_error = 0\n",
    "#     cost, seq = genetic(distance_matrix, hyperparams=params)\n",
    "#     opt_cost = get_optimal_cost(opt_sol.data, data)\n",
    "#     relative_error += (cost - opt_cost) / opt_cost\n",
    "#\n",
    "#     return relative_error\n"
   ],
   "id": "8e5c3e869fdf24d4",
   "outputs": [],
   "execution_count": 495
  },
  {
   "metadata": {
    "ExecuteTime": {
     "end_time": "2024-12-12T22:07:03.908588Z",
     "start_time": "2024-12-12T22:07:03.906239Z"
    }
   },
   "cell_type": "code",
   "source": [
    "# import optuna\n",
    "# SEED = 42  # Set a fixed seed for reproducibility\n",
    "#\n",
    "# # Run optimization\n",
    "# study = optuna.create_study(direction=\"minimize\", sampler=optuna.samplers.TPESampler(seed=SEED))\n",
    "# study.optimize(objective, n_trials=10)\n",
    "#\n",
    "# print(\"Best hyperparameters:\", study.best_params)\n",
    "# print(\"Best value:\", study.best_value)\n",
    "#\n",
    "# import optuna.visualization as vis\n",
    "#\n",
    "#\n",
    "# vis.plot_optimization_history(study).show()\n",
    "# vis.plot_param_importances(study).show()\n",
    "# vis.plot_slice(study).show()"
   ],
   "id": "94bdf8a9f5f71a25",
   "outputs": [],
   "execution_count": 496
  }
 ],
 "metadata": {
  "kernelspec": {
   "display_name": "Python 3",
   "language": "python",
   "name": "python3"
  },
  "language_info": {
   "codemirror_mode": {
    "name": "ipython",
    "version": 2
   },
   "file_extension": ".py",
   "mimetype": "text/x-python",
   "name": "python",
   "nbconvert_exporter": "python",
   "pygments_lexer": "ipython2",
   "version": "2.7.6"
  }
 },
 "nbformat": 4,
 "nbformat_minor": 5
}
